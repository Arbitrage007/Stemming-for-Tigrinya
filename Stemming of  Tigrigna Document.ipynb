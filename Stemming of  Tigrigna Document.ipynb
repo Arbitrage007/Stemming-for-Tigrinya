{
 "cells": [
  {
   "cell_type": "markdown",
   "metadata": {},
   "source": [
    "# Open the document to be stemmed"
   ]
  },
  {
   "cell_type": "code",
   "execution_count": 1,
   "metadata": {},
   "outputs": [
    {
     "name": "stdout",
     "output_type": "stream",
     "text": [
      "ፅሬት ከባቢታት ምሕላው ናይ ኩሉ ሕብረተሰብ ግቡእ እዩ ።\r\n",
      "ኣበበ በሶ ምስበልዐ ስለዘይፀገበ ባኒ ሂበዮ ።\r\n",
      "ኢሎን ማስክ ናይ ዓለምና ምሁር ሰብ እዩ ።\r\n",
      "ኣነን ኢሎን ማስክን  መሰታ ኢና ።\r\n",
      "ባህልና መግለፂ መንነትና ።\r\n",
      "ዓወትና ናይ ግድን እዩ ።\r\n",
      "ዘይመፀ ምስከደ ።\n"
     ]
    }
   ],
   "source": [
    "#document openner\n",
    "import codecs\n",
    "f1 = codecs.open(\"word.txt\", \"r\", \"utf-8-sig\")\n",
    "text1 = f1.read()\n",
    "print(text1)"
   ]
  },
  {
   "cell_type": "markdown",
   "metadata": {},
   "source": [
    "# Open the stem file"
   ]
  },
  {
   "cell_type": "code",
   "execution_count": 2,
   "metadata": {},
   "outputs": [
    {
     "name": "stdout",
     "output_type": "stream",
     "text": [
      "['ፅሬት', 'ከባቢ', 'ምሕላው', 'ናይ', 'ኩሉ', 'ሕብረተሰብ', 'ግቡእ', 'እዩ', 'ኣበበ', 'በሶ', 'በልዐ', 'ፀገበ', 'ተናዲዱ', 'ኢሎን', 'ዓለም', 'ምሁር', 'ሰብ', 'ኣነ', 'ምስ', 'መሰታ', 'ኢና', 'ማስክ', 'ናብ', 'ማርስ', 'ሂበ', 'ባኒ', 'ባህል', 'መግለፂ', 'መንነት', 'ዓወት', 'ከይደ', 'ግድን']\n"
     ]
    }
   ],
   "source": [
    "#stem file openner\n",
    "f2= codecs.open(\"steme.txt\", \"r\", \"utf-8-sig\")\n",
    "stemw= f2.read()\n",
    "words1 = stemw.split()\n",
    "lstemw = list()\n",
    "for word in words1:\n",
    "    lstemw.append((word))\n",
    "print(lstemw)"
   ]
  },
  {
   "cell_type": "markdown",
   "metadata": {},
   "source": [
    "# Open the prefix file"
   ]
  },
  {
   "cell_type": "code",
   "execution_count": 3,
   "metadata": {},
   "outputs": [
    {
     "name": "stdout",
     "output_type": "stream",
     "text": [
      "['ምእንትን', 'ምስ', 'ስለዘይ', 'ን', 'ዘይ']\n"
     ]
    }
   ],
   "source": [
    "#prefix file openner\n",
    "f3= codecs.open(\"prefix.txt\", \"r\", \"utf-8-sig\")\n",
    "prefixw= f3.read()\n",
    "words2 = prefixw.split()\n",
    "lprefixw = list()\n",
    "for word in words2:\n",
    "    lprefixw.append((word)) \n",
    "print(lprefixw)\n",
    "lprefix=tuple(lprefixw)"
   ]
  },
  {
   "cell_type": "markdown",
   "metadata": {},
   "source": [
    "# Open the postfix file"
   ]
  },
  {
   "cell_type": "code",
   "execution_count": 4,
   "metadata": {},
   "outputs": [
    {
     "name": "stdout",
     "output_type": "stream",
     "text": [
      "('ኢ', 'ታት', 'ና', 'ን', 'ዮ', 'ይ')\n"
     ]
    }
   ],
   "source": [
    "#postfix file openner\n",
    "f4= codecs.open(\"postfix.txt\", \"r\", \"utf-8-sig\")\n",
    "postfixw= f4.read()\n",
    "words3 = postfixw.split()\n",
    "lpostfixw = list()\n",
    "for word in words3:\n",
    "    lpostfixw.append((word))  \n",
    "lpostfix=tuple(lpostfixw)\n",
    "print(lpostfix)"
   ]
  },
  {
   "cell_type": "markdown",
   "metadata": {},
   "source": [
    "# Tokenize the document to be stemmed"
   ]
  },
  {
   "cell_type": "code",
   "execution_count": 5,
   "metadata": {},
   "outputs": [
    {
     "name": "stdout",
     "output_type": "stream",
     "text": [
      "['ፅሬት', 'ከባቢታት', 'ምሕላው', 'ናይ', 'ኩሉ', 'ሕብረተሰብ', 'ግቡእ', 'እዩ', '።', 'ኣበበ', 'በሶ', 'ምስበልዐ', 'ስለዘይፀገበ', 'ባኒ', 'ሂበዮ', '።', 'ኢሎን', 'ማስክ', 'ናይ', 'ዓለምና', 'ምሁር', 'ሰብ', 'እዩ', '።', 'ኣነን', 'ኢሎን', 'ማስክን', 'መሰታ', 'ኢና', '።', 'ባህልና', 'መግለፂ', 'መንነትና', '።', 'ዓወትና', 'ናይ', 'ግድን', 'እዩ', '።', 'ዘይመፀ', 'ምስከደ', '።']\n"
     ]
    }
   ],
   "source": [
    "#tokenizer for the document\n",
    "from nltk.tokenize import  word_tokenize\n",
    "tokenword=list()\n",
    "tokenword=word_tokenize(text1)\n",
    "print(tokenword)"
   ]
  },
  {
   "cell_type": "markdown",
   "metadata": {},
   "source": [
    "# Stemming the document"
   ]
  },
  {
   "cell_type": "code",
   "execution_count": 6,
   "metadata": {},
   "outputs": [],
   "source": [
    "#code................\n",
    "finalword=list()\n",
    "for i in range(len(tokenword)):\n",
    "    if tokenword[i] in lstemw:\n",
    "        finalword.append(tokenword[i])\n",
    "    elif tokenword[i].endswith(lpostfix):\n",
    "        for j in lpostfix:\n",
    "            if tokenword[i].endswith(j):\n",
    "                finalword.append(tokenword[i].replace(j,''))\n",
    "    else:           #tokenword[i].startswith(lprefix):  \n",
    "        for k in lprefix:\n",
    "            if tokenword[i].startswith(k):\n",
    "                finalword.append(tokenword[i].replace(k,''))                \n"
   ]
  },
  {
   "cell_type": "markdown",
   "metadata": {},
   "source": [
    "# Print the stemmed result"
   ]
  },
  {
   "cell_type": "code",
   "execution_count": 7,
   "metadata": {},
   "outputs": [
    {
     "name": "stdout",
     "output_type": "stream",
     "text": [
      "ፅሬት ከባቢ ምሕላው ናይ ኩሉ ሕብረተሰብ ግቡእ እዩ ኣበበ በሶ በልዐ ፀገበ ባኒ ሂበ ኢሎን ማስክ ናይ ዓለም ምሁር ሰብ እዩ ኣነ ኢሎን ማስክ መሰታ ኢና ባህል መግለፂ መንነት ዓወት ናይ ግድን እዩ መፀ ከደ "
     ]
    }
   ],
   "source": [
    "for i in finalword:\n",
    "    print(i,end=' ')"
   ]
  },
  {
   "cell_type": "code",
   "execution_count": null,
   "metadata": {},
   "outputs": [],
   "source": []
  }
 ],
 "metadata": {
  "kernelspec": {
   "display_name": "Python 3",
   "language": "python",
   "name": "python3"
  },
  "language_info": {
   "codemirror_mode": {
    "name": "ipython",
    "version": 3
   },
   "file_extension": ".py",
   "mimetype": "text/x-python",
   "name": "python",
   "nbconvert_exporter": "python",
   "pygments_lexer": "ipython3",
   "version": "3.7.0"
  }
 },
 "nbformat": 4,
 "nbformat_minor": 2
}
